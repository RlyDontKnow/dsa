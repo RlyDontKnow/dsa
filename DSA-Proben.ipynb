{
 "cells": [
  {
   "cell_type": "code",
   "execution_count": 54,
   "metadata": {},
   "outputs": [],
   "source": [
    "%matplotlib inline\n",
    "\n",
    "import matplotlib\n",
    "import numpy as np\n",
    "import matplotlib.pyplot as plot\n",
    "import ipywidgets as widgets\n",
    "\n",
    "from ipywidgets import interact\n",
    "from enum import IntEnum, auto"
   ]
  },
  {
   "cell_type": "code",
   "execution_count": 1,
   "metadata": {},
   "outputs": [],
   "source": [
    "CRIT=1\n",
    "FAIL=20"
   ]
  },
  {
   "cell_type": "code",
   "execution_count": 99,
   "metadata": {},
   "outputs": [],
   "source": [
    "class AttributeResult(IntEnum):\n",
    "    CRIT_CONFIRMED = auto()\n",
    "    CRIT_UNCONFIRMED = auto()\n",
    "    SUCCESS = auto()\n",
    "    MISS = auto()\n",
    "    FAIL_UNCONFIRMED = auto()\n",
    "    FAIL_CONFIRMED = auto()"
   ]
  },
  {
   "cell_type": "code",
   "execution_count": 98,
   "metadata": {},
   "outputs": [
    {
     "data": {
      "application/vnd.jupyter.widget-view+json": {
       "model_id": "59c1ae71bafd4efd99ebebbb17151eaa",
       "version_major": 2,
       "version_minor": 0
      },
      "text/plain": [
       "interactive(children=(IntSlider(value=13, description='attribute', max=40), IntSlider(value=0, description='mo…"
      ]
     },
     "metadata": {},
     "output_type": "display_data"
    }
   ],
   "source": [
    "def attribute_classify(d1: int, d2: int, eew: int) -> AttributeResult:\n",
    "    if d1 <= CRIT:\n",
    "        if d2 <= eew or d2 <= CRIT:\n",
    "            return AttributeResult.CRIT_CONFIRMED\n",
    "        else:\n",
    "            return AttributeResult.CRIT_UNCONFIRMED\n",
    "    elif d1 >= FAIL:\n",
    "        if d2 > eew or d2 >= FAIL:\n",
    "            return AttributeResult.FAIL_CONFIRMED\n",
    "        else:\n",
    "            return AttributeResult.FAIL_UNCONFIRMED\n",
    "    elif d1 > eew:\n",
    "        return AttributeResult.MISS\n",
    "    else:\n",
    "        return AttributeResult.SUCCESS\n",
    "    \n",
    "def attribute_test(attribute, modificator):\n",
    "    eew = attribute + modificator\n",
    "    rolls = [attribute_classify(d1 + 1, d2 + 1, eew) for d1 in range(20) for d2 in range(20)]\n",
    "    (hist, _) = np.histogram(rolls, bins=len(AttributeResult))\n",
    "    return [x / sum(hist) for x in hist]\n",
    "\n",
    "def attribute_plot(attribute, modificator):\n",
    "    hist = attribute_test(attribute, modificator)\n",
    "    names = [AttributeResult(i).name for i in range(1, len(AttributeResult) + 1)]\n",
    "    plot.pie(hist, labels=names, autopct=\"%0.2f\", pctdistance=0.85, radius=2)\n",
    "    return [\"{0:6.2f}: {1}%\".format(round(100 * x, 2), names[i]) for (i, x) in enumerate(hist)]\n",
    "    \n",
    "interact(attribute_plot,\n",
    "         attribute=widgets.IntSlider(min=0, max=40, step=1, value=13),\n",
    "         modificator=widgets.IntSlider(min=-20, max=20, step=1, value=0)\n",
    "        );"
   ]
  },
  {
   "cell_type": "code",
   "execution_count": 100,
   "metadata": {},
   "outputs": [],
   "source": [
    "class TalentResult(IntEnum):\n",
    "    CRIT_TRIPLE = auto()\n",
    "    CRIT_DOUBLE = auto()\n",
    "    QS6 = auto()\n",
    "    QS5 = auto()\n",
    "    QS4 = auto()\n",
    "    QS3 = auto()\n",
    "    QS2 = auto()\n",
    "    QS1 = auto()\n",
    "    MISS = auto()\n",
    "    FAIL_DOUBLE = auto()\n",
    "    FAIL_TRIPLE = auto()"
   ]
  },
  {
   "cell_type": "code",
   "execution_count": 180,
   "metadata": {
    "scrolled": false
   },
   "outputs": [
    {
     "data": {
      "application/vnd.jupyter.widget-view+json": {
       "model_id": "1cd9999352c14c15969e38bea1984019",
       "version_major": 2,
       "version_minor": 0
      },
      "text/plain": [
       "interactive(children=(IntSlider(value=13, description='attribute1', max=40), IntSlider(value=13, description='…"
      ]
     },
     "metadata": {},
     "output_type": "display_data"
    }
   ],
   "source": [
    "def talent_classify(dies: [int], eews: [int], fw: int, talented: bool) -> TalentResult:\n",
    "    if all([d >= FAIL for d in dies]):\n",
    "        return TalentResult.FAIL_TRIPLE\n",
    "    if sum([d >= FAIL for d in dies]) == 2:\n",
    "        return TalentResult.FAIL_DOUBLE\n",
    "    if talented:\n",
    "        dies.remove(max(dies))\n",
    "    if all([d <= CRIT for d in dies]):\n",
    "        return TalentResult.CRIT_TRIPLE\n",
    "    if sum([d <= CRIT for d in dies]) == 2:\n",
    "        return TalentResult.CRIT_DOUBLE\n",
    "    fp = fw - sum([max(d - eew, 0) for (d, eew) in zip(dies, eews)])\n",
    "    if fp < 0:\n",
    "        return TalentResult.MISS\n",
    "    if fp < 4:\n",
    "        return TalentResult.QS1\n",
    "    if fp < 7:\n",
    "        return TalentResult.QS2\n",
    "    if fp < 10:\n",
    "        return TalentResult.QS3\n",
    "    if fp < 13:\n",
    "        return TalentResult.QS4\n",
    "    if fp < 16:\n",
    "        return TalentResult.QS5\n",
    "    return TalentResult.QS6\n",
    "    \n",
    "def talent_test(attributes: [int], fw: int, modificator: int, talented):\n",
    "    eews = [a + modificator for a in attributes]\n",
    "    if any([eew < 1 for eew in eews]):\n",
    "        return [0, 0, 0, 0, 0, 0, 0, 0, 1, 0, 0]  # we always miss an impossible feat\n",
    "    classify = lambda dies: talent_classify(dies, eews, fw, talented)\n",
    "    rolls = [classify([d + 1 for d in [d1, d2, d3, d4]]) for d1 in range(20) for d2 in range(20) for d3 in range(20) for d4 in range(20)]\n",
    "    (hist, _) = np.histogram(rolls, bins=len(TalentResult))\n",
    "    return [x / sum(hist) for x in hist]\n",
    "\n",
    "def talent_plot(attribute1: int, attribute2: int, attribute3: int, fw: int, modificator: int, talented: bool):\n",
    "    hist = talent_test([attribute1, attribute2, attribute3], fw, modificator, talented)\n",
    "    names = [TalentResult(i).name for i in range(1, len(TalentResult) + 1)]\n",
    "    plot.pie(hist, labels=names, autopct=\"%0.2f\", pctdistance=0.85, radius=2)\n",
    "    return [\"{0:6.2f}%: {1}\".format(round(100 * x, 2), names[i]) for (i, x) in enumerate(hist)]\n",
    "    \n",
    "interact(talent_plot,\n",
    "         attribute1=widgets.IntSlider(min=0, max=40, step=1, value=13),\n",
    "         attribute2=widgets.IntSlider(min=0, max=40, step=1, value=13),\n",
    "         attribute3=widgets.IntSlider(min=0, max=40, step=1, value=13),\n",
    "         fw=widgets.IntSlider(min=0, max=40, step=1, value=10),\n",
    "         modificator=widgets.IntSlider(min=-20, max=20, step=1, value=0),\n",
    "         talented=widgets.Checkbox(value=False)\n",
    "        );"
   ]
  },
  {
   "cell_type": "code",
   "execution_count": 184,
   "metadata": {
    "scrolled": false
   },
   "outputs": [
    {
     "data": {
      "application/vnd.jupyter.widget-view+json": {
       "model_id": "1f3c95d372db457097e0b233c63e43c7",
       "version_major": 2,
       "version_minor": 0
      },
      "text/plain": [
       "interactive(children=(IntSlider(value=7, description='maxattempts', max=10), IntSlider(value=17, description='…"
      ]
     },
     "metadata": {},
     "output_type": "display_data"
    }
   ],
   "source": [
    "def masstalent_classify(dies: [int], eews: [int], fw: int, talented: bool, mastertalented: bool) -> TalentResult:\n",
    "    fails = sum([d >= FAIL for d in dies[:3]])\n",
    "    if fails >= 2:\n",
    "        if mastertalented and fails < 3:\n",
    "            return 0\n",
    "        return -1\n",
    "    if talented:\n",
    "        dies.remove(max(dies))\n",
    "    crit = sum([d <= CRIT for d in dies]) >= 2\n",
    "    fp = fw - sum([max(d - eew, 0) for (d, eew) in zip(dies, eews)])\n",
    "    if fp < 0:\n",
    "        return 0\n",
    "    qs = max(1, fp) // 3\n",
    "    if crit:\n",
    "        qs = 2 * qs\n",
    "    return qs\n",
    "    \n",
    "def masstalent_singletest(attributes: [int], fw: int, modificator: int, talented: bool, mastertalented: bool):\n",
    "    eews = [a + modificator for a in attributes]\n",
    "    if any([eew < 1 for eew in eews]):\n",
    "        {0: 1}\n",
    "    classify = lambda dies: masstalent_classify(dies, eews, fw, talented, mastertalented)\n",
    "    rolls = [classify([d + 1 for d in [d1, d2, d3, d4]]) for d1 in range(20) for d2 in range(20) for d3 in range(20) for d4 in range(20)]\n",
    "    hist = {}\n",
    "    for v in rolls:\n",
    "        if not v in hist:\n",
    "            hist[v] = 1\n",
    "        else:\n",
    "            hist[v] = hist[v] + 1\n",
    "    factor = 1.0 / sum(hist.values())\n",
    "    for k in hist:\n",
    "      hist[k] = factor * hist[k]\n",
    "    return hist\n",
    "\n",
    "def masstalent_test(maxattempts: int, attributes: [int], fw: int, modificator: int, talented: bool, mastertalented: bool, useschip: bool) -> [float]:\n",
    "    chances = [masstalent_singletest(attributes, fw, modificator - i, talented, mastertalented) for i in range(maxattempts)]\n",
    "    \n",
    "    # our result contains the probability mass that we're done after the given amount of time (or never)\n",
    "    result = {}\n",
    "    for i in range(maxattempts + 1):\n",
    "        result[i] = 0.0\n",
    "    \n",
    "    # to keep track of all possible states we keep a matrix with the reached amount of qs and the current modificator\n",
    "    running = np.zeros((10, maxattempts + 1))\n",
    "    running[(0, 0)] = 1.0\n",
    "    \n",
    "    # in each round we redistribute mass from our running state according to the probabilities for the according modificator\n",
    "    for attempt in range(maxattempts):\n",
    "        newrunning = np.zeros_like(running)\n",
    "        for (qs, mod) in np.ndindex(10, attempt + 1): # our round number is also the worst modificator we may have at the moment\n",
    "            p = running[(qs, mod)]\n",
    "            for r, chance in chances[mod].items():\n",
    "                newmod = mod\n",
    "                newqs = qs + r\n",
    "                newp = p * chance\n",
    "                if r <= 0:\n",
    "                    newmod = newmod + 1\n",
    "                if r < 0:\n",
    "                    newqs = 0\n",
    "                reroll = r == 0 and (mastertalented or useschip)\n",
    "                if not reroll:\n",
    "                    if newqs >= 10:\n",
    "                        result[attempt + 1] = result[attempt + 1] + newp\n",
    "                    else:\n",
    "                        newrunning[(newqs, newmod)] = newrunning[(newqs, newmod)] + newp\n",
    "                else:\n",
    "                    for mr, mchance in chances[mod].items():\n",
    "                        newmod = mod\n",
    "                        newqs = qs + mr\n",
    "                        mnewp = newp * mchance\n",
    "                        if mr <= 0:\n",
    "                            newmod = newmod + 1\n",
    "                        if mr < 0:\n",
    "                            newqs = 0\n",
    "                        mreroll = mr == 0 and mastertalented and useschip\n",
    "                        if not mreroll:\n",
    "                            if newqs >= 10:\n",
    "                                result[attempt + 1] = result[attempt + 1] + mnewp\n",
    "                            else:\n",
    "                                newrunning[(newqs, newmod)] = newrunning[(newqs, newmod)] + mnewp\n",
    "                        else:\n",
    "                            for sr, schance in chances[mod].items():\n",
    "                                newmod = mod\n",
    "                                newqs = qs + sr\n",
    "                                snewp = mnewp * schance\n",
    "                                if sr <= 0:\n",
    "                                    newmod = newmod + 1\n",
    "                                if sr < 0:\n",
    "                                    newqs = 0\n",
    "                                if newqs >= 10:\n",
    "                                    result[attempt + 1] = result[attempt + 1] + snewp\n",
    "                                else:\n",
    "                                    newrunning[(newqs, newmod)] = newrunning[(newqs, newmod)] + snewp\n",
    "                            continue\n",
    "                    continue\n",
    "        running = newrunning\n",
    "    result[0] = np.sum(running)\n",
    "    return result.values()\n",
    "\n",
    "def masstalent_plot(maxattempts: int, attribute1: int, attribute2: int, attribute3: int, fw: int, modificator: int, talented: bool, mastertalented: bool, useschip: bool):\n",
    "    hist = masstalent_test(maxattempts, [attribute1, attribute2, attribute3], fw, modificator, talented, mastertalented, useschip)\n",
    "    names = [\"miss\"] + [str(i + 1) for i in range(maxattempts)]\n",
    "    plot.pie(hist, labels=names, autopct=\"%0.2f\", pctdistance=0.85, radius=2)\n",
    "    return [\"{0:6.2f}%: {1}\".format(round(100 * x, 2), names[i]) for (i, x) in enumerate(hist)]\n",
    "    \n",
    "interact(masstalent_plot,\n",
    "         maxattempts=widgets.IntSlider(min=0, max=10, step=1, value=7),\n",
    "         attribute1=widgets.IntSlider(min=0, max=20, step=1, value=17),\n",
    "         attribute2=widgets.IntSlider(min=0, max=20, step=1, value=17),\n",
    "         attribute3=widgets.IntSlider(min=0, max=20, step=1, value=17),\n",
    "         fw=widgets.IntSlider(min=0, max=40, step=1, value=19),\n",
    "         modificator=widgets.IntSlider(min=-20, max=20, step=1, value=0),\n",
    "         talented=widgets.Checkbox(value=False),\n",
    "         mastertalented=widgets.Checkbox(value=False),\n",
    "         useschip=widgets.Checkbox(value=False)\n",
    "        );"
   ]
  },
  {
   "cell_type": "code",
   "execution_count": null,
   "metadata": {},
   "outputs": [],
   "source": []
  }
 ],
 "metadata": {
  "kernelspec": {
   "display_name": "Python 3",
   "language": "python",
   "name": "python3"
  },
  "language_info": {
   "codemirror_mode": {
    "name": "ipython",
    "version": 3
   },
   "file_extension": ".py",
   "mimetype": "text/x-python",
   "name": "python",
   "nbconvert_exporter": "python",
   "pygments_lexer": "ipython3",
   "version": "3.7.1"
  }
 },
 "nbformat": 4,
 "nbformat_minor": 2
}
